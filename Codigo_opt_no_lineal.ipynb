{
 "cells": [
  {
   "cell_type": "code",
   "execution_count": 2,
   "metadata": {},
   "outputs": [],
   "source": [
    "import pandas as pd"
   ]
  },
  {
   "cell_type": "code",
   "execution_count": 135,
   "metadata": {},
   "outputs": [],
   "source": [
    "from scipy.optimize import minimize\n",
    "from scipy.optimize import Bounds, NonlinearConstraint"
   ]
  },
  {
   "cell_type": "code",
   "execution_count": 4,
   "metadata": {},
   "outputs": [],
   "source": [
    "import numpy as np"
   ]
  },
  {
   "cell_type": "code",
   "execution_count": 5,
   "metadata": {},
   "outputs": [],
   "source": [
    "import matplotlib.pyplot as plt"
   ]
  },
  {
   "cell_type": "code",
   "execution_count": 6,
   "metadata": {},
   "outputs": [],
   "source": [
    "from scipy.optimize import rosen, shgo, dual_annealing, least_squares, differential_evolution"
   ]
  },
  {
   "cell_type": "code",
   "execution_count": 7,
   "metadata": {},
   "outputs": [],
   "source": [
    "File = pd.ExcelFile('tarea_opt_nolineal.xlsx')"
   ]
  },
  {
   "cell_type": "code",
   "execution_count": 8,
   "metadata": {},
   "outputs": [
    {
     "name": "stdout",
     "output_type": "stream",
     "text": [
      "['Hoja1']\n"
     ]
    }
   ],
   "source": [
    "print(File.sheet_names)"
   ]
  },
  {
   "cell_type": "code",
   "execution_count": 9,
   "metadata": {},
   "outputs": [],
   "source": [
    "df=File.parse('Hoja1')"
   ]
  },
  {
   "cell_type": "code",
   "execution_count": 10,
   "metadata": {},
   "outputs": [],
   "source": [
    "df=df[2:15]"
   ]
  },
  {
   "cell_type": "code",
   "execution_count": 11,
   "metadata": {},
   "outputs": [],
   "source": [
    "df=df.transpose()"
   ]
  },
  {
   "cell_type": "code",
   "execution_count": 12,
   "metadata": {},
   "outputs": [],
   "source": [
    "df=df[1:184]"
   ]
  },
  {
   "cell_type": "code",
   "execution_count": 13,
   "metadata": {},
   "outputs": [
    {
     "data": {
      "text/html": [
       "<div>\n",
       "<style scoped>\n",
       "    .dataframe tbody tr th:only-of-type {\n",
       "        vertical-align: middle;\n",
       "    }\n",
       "\n",
       "    .dataframe tbody tr th {\n",
       "        vertical-align: top;\n",
       "    }\n",
       "\n",
       "    .dataframe thead th {\n",
       "        text-align: right;\n",
       "    }\n",
       "</style>\n",
       "<table border=\"1\" class=\"dataframe\">\n",
       "  <thead>\n",
       "    <tr style=\"text-align: right;\">\n",
       "      <th></th>\n",
       "      <th>2</th>\n",
       "      <th>3</th>\n",
       "      <th>4</th>\n",
       "      <th>5</th>\n",
       "      <th>6</th>\n",
       "      <th>7</th>\n",
       "      <th>8</th>\n",
       "      <th>9</th>\n",
       "      <th>10</th>\n",
       "      <th>11</th>\n",
       "      <th>12</th>\n",
       "      <th>13</th>\n",
       "      <th>14</th>\n",
       "    </tr>\n",
       "  </thead>\n",
       "  <tbody>\n",
       "    <tr>\n",
       "      <th>Unnamed: 1</th>\n",
       "      <td>Fecha</td>\n",
       "      <td>Infectados (casos diarios)</td>\n",
       "      <td>Infectados (total acumulados)</td>\n",
       "      <td>recuperados (casos diarios)</td>\n",
       "      <td>recuperados (total acumulados)</td>\n",
       "      <td>fallecidos (casos diarios)</td>\n",
       "      <td>fallecidos (total acumulados)</td>\n",
       "      <td>infectados asintomaticos (casos diarios)</td>\n",
       "      <td>infectados asintomaticos (total acumulados)</td>\n",
       "      <td>Activos confirmados (diario)</td>\n",
       "      <td>activos no confirmados (diario)</td>\n",
       "      <td>tasa asintomatico_2 (diario)</td>\n",
       "      <td>tasa asintomatico (diario)</td>\n",
       "    </tr>\n",
       "    <tr>\n",
       "      <th>Unnamed: 2</th>\n",
       "      <td>2020-12-01 00:00:00</td>\n",
       "      <td>1119</td>\n",
       "      <td>552864</td>\n",
       "      <td>1430</td>\n",
       "      <td>528034</td>\n",
       "      <td>20</td>\n",
       "      <td>15430</td>\n",
       "      <td>354</td>\n",
       "      <td>92828</td>\n",
       "      <td>9089</td>\n",
       "      <td>1748</td>\n",
       "      <td>0.161299</td>\n",
       "      <td>0.316354</td>\n",
       "    </tr>\n",
       "    <tr>\n",
       "      <th>Unnamed: 3</th>\n",
       "      <td>2020-12-02 00:00:00</td>\n",
       "      <td>1035</td>\n",
       "      <td>553899</td>\n",
       "      <td>1467</td>\n",
       "      <td>529501</td>\n",
       "      <td>8</td>\n",
       "      <td>15438</td>\n",
       "      <td>245</td>\n",
       "      <td>93073</td>\n",
       "      <td>8647</td>\n",
       "      <td>1865</td>\n",
       "      <td>0.177416</td>\n",
       "      <td>0.236715</td>\n",
       "    </tr>\n",
       "    <tr>\n",
       "      <th>Unnamed: 4</th>\n",
       "      <td>2020-12-03 00:00:00</td>\n",
       "      <td>1507</td>\n",
       "      <td>555406</td>\n",
       "      <td>969</td>\n",
       "      <td>530470</td>\n",
       "      <td>81</td>\n",
       "      <td>15519</td>\n",
       "      <td>409</td>\n",
       "      <td>93482</td>\n",
       "      <td>9104</td>\n",
       "      <td>1999</td>\n",
       "      <td>0.180041</td>\n",
       "      <td>0.2714</td>\n",
       "    </tr>\n",
       "    <tr>\n",
       "      <th>Unnamed: 5</th>\n",
       "      <td>2020-12-04 00:00:00</td>\n",
       "      <td>1729</td>\n",
       "      <td>557135</td>\n",
       "      <td>1073</td>\n",
       "      <td>531543</td>\n",
       "      <td>39</td>\n",
       "      <td>15558</td>\n",
       "      <td>552</td>\n",
       "      <td>94034</td>\n",
       "      <td>9719</td>\n",
       "      <td>2044</td>\n",
       "      <td>0.173765</td>\n",
       "      <td>0.31926</td>\n",
       "    </tr>\n",
       "    <tr>\n",
       "      <th>...</th>\n",
       "      <td>...</td>\n",
       "      <td>...</td>\n",
       "      <td>...</td>\n",
       "      <td>...</td>\n",
       "      <td>...</td>\n",
       "      <td>...</td>\n",
       "      <td>...</td>\n",
       "      <td>...</td>\n",
       "      <td>...</td>\n",
       "      <td>...</td>\n",
       "      <td>...</td>\n",
       "      <td>...</td>\n",
       "      <td>...</td>\n",
       "    </tr>\n",
       "    <tr>\n",
       "      <th>Unnamed: 179</th>\n",
       "      <td>2021-05-27 00:00:00</td>\n",
       "      <td>8117</td>\n",
       "      <td>1352087</td>\n",
       "      <td>5542</td>\n",
       "      <td>1282561</td>\n",
       "      <td>185</td>\n",
       "      <td>28809</td>\n",
       "      <td>1852</td>\n",
       "      <td>300233</td>\n",
       "      <td>40510</td>\n",
       "      <td>12548</td>\n",
       "      <td>0.236496</td>\n",
       "      <td>0.228163</td>\n",
       "    </tr>\n",
       "    <tr>\n",
       "      <th>Unnamed: 180</th>\n",
       "      <td>2021-05-28 00:00:00</td>\n",
       "      <td>8680</td>\n",
       "      <td>1360767</td>\n",
       "      <td>5243</td>\n",
       "      <td>1287804</td>\n",
       "      <td>119</td>\n",
       "      <td>28928</td>\n",
       "      <td>2238</td>\n",
       "      <td>302471</td>\n",
       "      <td>43793</td>\n",
       "      <td>13104</td>\n",
       "      <td>0.230311</td>\n",
       "      <td>0.257834</td>\n",
       "    </tr>\n",
       "    <tr>\n",
       "      <th>Unnamed: 181</th>\n",
       "      <td>2021-05-29 00:00:00</td>\n",
       "      <td>8426</td>\n",
       "      <td>1369193</td>\n",
       "      <td>7842</td>\n",
       "      <td>1295646</td>\n",
       "      <td>119</td>\n",
       "      <td>29047</td>\n",
       "      <td>2115</td>\n",
       "      <td>304586</td>\n",
       "      <td>44186</td>\n",
       "      <td>13071</td>\n",
       "      <td>0.228286</td>\n",
       "      <td>0.251009</td>\n",
       "    </tr>\n",
       "    <tr>\n",
       "      <th>Unnamed: 182</th>\n",
       "      <td>2021-05-30 00:00:00</td>\n",
       "      <td>7772</td>\n",
       "      <td>1376965</td>\n",
       "      <td>6872</td>\n",
       "      <td>1302518</td>\n",
       "      <td>121</td>\n",
       "      <td>29168</td>\n",
       "      <td>2012</td>\n",
       "      <td>306598</td>\n",
       "      <td>44928</td>\n",
       "      <td>13238</td>\n",
       "      <td>0.22759</td>\n",
       "      <td>0.258878</td>\n",
       "    </tr>\n",
       "    <tr>\n",
       "      <th>Unnamed: 183</th>\n",
       "      <td>2021-05-31 00:00:00</td>\n",
       "      <td>6882</td>\n",
       "      <td>1383847</td>\n",
       "      <td>6522</td>\n",
       "      <td>1309040</td>\n",
       "      <td>132</td>\n",
       "      <td>29300</td>\n",
       "      <td>1827</td>\n",
       "      <td>308425</td>\n",
       "      <td>45104</td>\n",
       "      <td>12159</td>\n",
       "      <td>0.212336</td>\n",
       "      <td>0.265475</td>\n",
       "    </tr>\n",
       "  </tbody>\n",
       "</table>\n",
       "<p>183 rows × 13 columns</p>\n",
       "</div>"
      ],
      "text/plain": [
       "                               2                           3   \\\n",
       "Unnamed: 1                  Fecha  Infectados (casos diarios)   \n",
       "Unnamed: 2    2020-12-01 00:00:00                        1119   \n",
       "Unnamed: 3    2020-12-02 00:00:00                        1035   \n",
       "Unnamed: 4    2020-12-03 00:00:00                        1507   \n",
       "Unnamed: 5    2020-12-04 00:00:00                        1729   \n",
       "...                           ...                         ...   \n",
       "Unnamed: 179  2021-05-27 00:00:00                        8117   \n",
       "Unnamed: 180  2021-05-28 00:00:00                        8680   \n",
       "Unnamed: 181  2021-05-29 00:00:00                        8426   \n",
       "Unnamed: 182  2021-05-30 00:00:00                        7772   \n",
       "Unnamed: 183  2021-05-31 00:00:00                        6882   \n",
       "\n",
       "                                         4                            5   \\\n",
       "Unnamed: 1    Infectados (total acumulados)  recuperados (casos diarios)   \n",
       "Unnamed: 2                           552864                         1430   \n",
       "Unnamed: 3                           553899                         1467   \n",
       "Unnamed: 4                           555406                          969   \n",
       "Unnamed: 5                           557135                         1073   \n",
       "...                                     ...                          ...   \n",
       "Unnamed: 179                        1352087                         5542   \n",
       "Unnamed: 180                        1360767                         5243   \n",
       "Unnamed: 181                        1369193                         7842   \n",
       "Unnamed: 182                        1376965                         6872   \n",
       "Unnamed: 183                        1383847                         6522   \n",
       "\n",
       "                                          6                           7   \\\n",
       "Unnamed: 1    recuperados (total acumulados)  fallecidos (casos diarios)   \n",
       "Unnamed: 2                            528034                          20   \n",
       "Unnamed: 3                            529501                           8   \n",
       "Unnamed: 4                            530470                          81   \n",
       "Unnamed: 5                            531543                          39   \n",
       "...                                      ...                         ...   \n",
       "Unnamed: 179                         1282561                         185   \n",
       "Unnamed: 180                         1287804                         119   \n",
       "Unnamed: 181                         1295646                         119   \n",
       "Unnamed: 182                         1302518                         121   \n",
       "Unnamed: 183                         1309040                         132   \n",
       "\n",
       "                                         8   \\\n",
       "Unnamed: 1    fallecidos (total acumulados)   \n",
       "Unnamed: 2                            15430   \n",
       "Unnamed: 3                            15438   \n",
       "Unnamed: 4                            15519   \n",
       "Unnamed: 5                            15558   \n",
       "...                                     ...   \n",
       "Unnamed: 179                          28809   \n",
       "Unnamed: 180                          28928   \n",
       "Unnamed: 181                          29047   \n",
       "Unnamed: 182                          29168   \n",
       "Unnamed: 183                          29300   \n",
       "\n",
       "                                                    9   \\\n",
       "Unnamed: 1    infectados asintomaticos (casos diarios)   \n",
       "Unnamed: 2                                         354   \n",
       "Unnamed: 3                                         245   \n",
       "Unnamed: 4                                         409   \n",
       "Unnamed: 5                                         552   \n",
       "...                                                ...   \n",
       "Unnamed: 179                                      1852   \n",
       "Unnamed: 180                                      2238   \n",
       "Unnamed: 181                                      2115   \n",
       "Unnamed: 182                                      2012   \n",
       "Unnamed: 183                                      1827   \n",
       "\n",
       "                                                       10  \\\n",
       "Unnamed: 1    infectados asintomaticos (total acumulados)   \n",
       "Unnamed: 2                                          92828   \n",
       "Unnamed: 3                                          93073   \n",
       "Unnamed: 4                                          93482   \n",
       "Unnamed: 5                                          94034   \n",
       "...                                                   ...   \n",
       "Unnamed: 179                                       300233   \n",
       "Unnamed: 180                                       302471   \n",
       "Unnamed: 181                                       304586   \n",
       "Unnamed: 182                                       306598   \n",
       "Unnamed: 183                                       308425   \n",
       "\n",
       "                                        11                               12  \\\n",
       "Unnamed: 1    Activos confirmados (diario)  activos no confirmados (diario)   \n",
       "Unnamed: 2                            9089                             1748   \n",
       "Unnamed: 3                            8647                             1865   \n",
       "Unnamed: 4                            9104                             1999   \n",
       "Unnamed: 5                            9719                             2044   \n",
       "...                                    ...                              ...   \n",
       "Unnamed: 179                         40510                            12548   \n",
       "Unnamed: 180                         43793                            13104   \n",
       "Unnamed: 181                         44186                            13071   \n",
       "Unnamed: 182                         44928                            13238   \n",
       "Unnamed: 183                         45104                            12159   \n",
       "\n",
       "                                        13                          14  \n",
       "Unnamed: 1    tasa asintomatico_2 (diario)  tasa asintomatico (diario)  \n",
       "Unnamed: 2                        0.161299                    0.316354  \n",
       "Unnamed: 3                        0.177416                    0.236715  \n",
       "Unnamed: 4                        0.180041                      0.2714  \n",
       "Unnamed: 5                        0.173765                     0.31926  \n",
       "...                                    ...                         ...  \n",
       "Unnamed: 179                      0.236496                    0.228163  \n",
       "Unnamed: 180                      0.230311                    0.257834  \n",
       "Unnamed: 181                      0.228286                    0.251009  \n",
       "Unnamed: 182                       0.22759                    0.258878  \n",
       "Unnamed: 183                      0.212336                    0.265475  \n",
       "\n",
       "[183 rows x 13 columns]"
      ]
     },
     "execution_count": 13,
     "metadata": {},
     "output_type": "execute_result"
    }
   ],
   "source": [
    "df"
   ]
  },
  {
   "cell_type": "code",
   "execution_count": 14,
   "metadata": {},
   "outputs": [],
   "source": [
    "fechas=df.iloc[:,0]\n",
    "fechas=fechas.iloc[1:len(fechas)]#dias considerados"
   ]
  },
  {
   "cell_type": "code",
   "execution_count": 15,
   "metadata": {},
   "outputs": [],
   "source": [
    "Ib=df.iloc[:,1]\n",
    "Ib=Ib.iloc[1:len(Ib)]#casos nuevos totales"
   ]
  },
  {
   "cell_type": "code",
   "execution_count": 16,
   "metadata": {},
   "outputs": [],
   "source": [
    "Rb=df.iloc[:,3]\n",
    "Rb=Rb.iloc[1:len(Rb)]#total de recuperados diarios\n"
   ]
  },
  {
   "cell_type": "code",
   "execution_count": 17,
   "metadata": {},
   "outputs": [],
   "source": [
    "Db=df.iloc[:,5]\n",
    "Db=Db.iloc[1:len(Db)]#total de muertos diarios\n"
   ]
  },
  {
   "cell_type": "code",
   "execution_count": 18,
   "metadata": {},
   "outputs": [],
   "source": [
    "Ab=df.iloc[:,7]\n",
    "Ab=Ab.iloc[1:len(Ab)]#total de infectados asintomaticos diarios\n",
    "Ib_ac=df.iloc[:,2]\n",
    "Ib_ac=Ib_ac.iloc[1:len(Ib_ac)]#total de infectados acumulados\n",
    "Rb_ac=df.iloc[:,4]\n",
    "Rb_ac=Rb_ac.iloc[1:len(Rb_ac)]#total de recuperados acumulados (R en el modelo SEAIRD)\n",
    "Db_ac=df.iloc[:,6]\n",
    "Db_ac=Db_ac.iloc[1:len(Db_ac)]#total de muertos acumulados (D en el modelo SEAIRD)"
   ]
  },
  {
   "cell_type": "code",
   "execution_count": 19,
   "metadata": {},
   "outputs": [],
   "source": [
    "Ab_ac=df.iloc[:,8]\n",
    "Ab_ac=Ab_ac.iloc[1:len(Ab_ac)]#total de infectados asintomaticos acumulados"
   ]
  },
  {
   "cell_type": "code",
   "execution_count": 20,
   "metadata": {},
   "outputs": [],
   "source": [
    "ac_con=df.iloc[:,9]\n",
    "ac_con=ac_con.iloc[1:len(ac_con)]#casos activos confirmados diarios (I en el modelo SEAIRD)\n",
    "ac_sin=df.iloc[:,10]\n",
    "ac_sin=ac_sin.iloc[1:len(ac_sin)]#casos activos no confirmados diarios (A en el modelo SEAIRD)"
   ]
  },
  {
   "cell_type": "code",
   "execution_count": 21,
   "metadata": {},
   "outputs": [],
   "source": [
    "kappa=ac_sin/ac_con #Proporcion de test (parametro k=activos no confirmados/activos confirmados) en el modelo SEAIRD"
   ]
  },
  {
   "cell_type": "code",
   "execution_count": 22,
   "metadata": {},
   "outputs": [],
   "source": [
    "N=19107000;#poblacion total\n",
    "n=len(Ib);#numero de dias considerados\n",
    "largo=7 #duracion en dias de las medidas tomadas (distancamiento social y cuarentena)\n",
    "num=int(n/largo);#tamaño de los vectores alpha_a y alpha_i"
   ]
  },
  {
   "cell_type": "code",
   "execution_count": 23,
   "metadata": {},
   "outputs": [],
   "source": [
    "Rb_act_ac=Rb_ac-(Rb_ac[0]-Rb[0])*np.ones(n)"
   ]
  },
  {
   "cell_type": "code",
   "execution_count": 45,
   "metadata": {},
   "outputs": [],
   "source": [
    "np.random.seed(0)\n",
    "alpha_a=np.random.rand(num)\n",
    "alpha_i=np.random.rand(num)\n",
    "alpha_a[0]=0.5\n",
    "alpha_i[0]=0.5\n",
    "mu0=(Db_ac[1]-Db_ac[0])/ac_con[0]\n",
    "beta0=(Rb_ac[1]-Rb_ac[0]-0.1*ac_sin[0])/ac_con[0]\n",
    "E0=(ac_sin[1]-(0.9-kappa[0])*ac_sin[0])/0.5\n",
    "#(1-beta-mu)*ac_con[0]+kappa[0]*ac_sin[0]\n",
    "#ac_con[1]\n",
    "E1=(ac_sin[2]-(0.9-kappa[1])*ac_sin[1])/0.5\n",
    "delta=(alpha_a[0]*ac_sin[0]+alpha_i[0]*ac_con[0])/N\n",
    "S0=(E1-0.5*E0)/delta\n",
    "mu0=np.ones(1)*mu0\n",
    "beta0=np.ones(1)*beta0\n",
    "x0=np.concatenate((mu0,beta0,alpha_a,alpha_i))"
   ]
  },
  {
   "cell_type": "code",
   "execution_count": 46,
   "metadata": {},
   "outputs": [],
   "source": [
    "\n",
    "def fun_aux(x):#x debe ser un vector que acople los parametros mu, beta, alpha_a y alpha_i (en ese orden)\n",
    "    mu=x[0];\n",
    "    beta=x[1];\n",
    "    alpha_a=x[2:num+2];\n",
    "    alpha_i=x[num+2:2*num+2];\n",
    "    I=np.zeros(n);\n",
    "    D=np.zeros(n);\n",
    "    R=np.zeros(n);\n",
    "    A=np.zeros(n);\n",
    "    S=np.zeros(n);\n",
    "    E=np.zeros(n);\n",
    "    new_alpha_a=np.repeat(alpha_a[0],largo)#new_alpha_a es el parametro de distanciamiento social,\n",
    "                                            #la cual es una funcion escalon\n",
    "    new_alpha_i=np.repeat(alpha_i[0],largo)#new_alpha_i es el parametro de cuarentena, la cual es una funcion escalon\n",
    "    I[0]=ac_con[0]\n",
    "    R[0]=Rb_ac[0]\n",
    "    D[0]=Db_ac[0]\n",
    "    A[0]=ac_sin[0]\n",
    "    E[0]=E0\n",
    "    S[0]=S0\n",
    "    for j in range(1,num):\n",
    "        aux_a=np.repeat(alpha_a[j],largo)\n",
    "        aux_i=np.repeat(alpha_i[j],largo)\n",
    "        new_alpha_a=np.concatenate((new_alpha_a,aux_a))\n",
    "        new_alpha_i=np.concatenate((new_alpha_i,aux_i))\n",
    "    for j in range(n-1):\n",
    "        delta=(new_alpha_a[j]*A[j]+new_alpha_i[j]*I[j])/N;\n",
    "        S[j+1]=(1-delta)*S[j];#gamma=0\n",
    "        E[j+1]=0.5*E[j]+delta*S[j];\n",
    "        A[j+1]=(0.9-kappa[j])*A[j]+0.5*E[j];\n",
    "        I[j+1]=(1-beta-mu)*I[j]+kappa[j]*A[j];\n",
    "        R[j+1]=R[j]+0.1*A[j]+beta*I[j];#gamma=0\n",
    "        D[j+1]=D[j]+mu*I[j];\n",
    "    return I, R, D\n"
   ]
  },
  {
   "cell_type": "code",
   "execution_count": 47,
   "metadata": {},
   "outputs": [],
   "source": [
    "PR=0;#peso asociado a los recuperados\n",
    "PD=2/3;#peso asociado a los muertos\n",
    "PI=1-PR-PD;#peso asociado a los infectados"
   ]
  },
  {
   "cell_type": "code",
   "execution_count": 48,
   "metadata": {},
   "outputs": [],
   "source": [
    "\n",
    "def obj_fun(x):\n",
    "    I, R, D= fun_aux(x);\n",
    "    return PI*np.sum(np.square(I-ac_con))+PR*np.sum(np.square(R-Rb_ac))+PD*np.sum(np.square(D-Db_ac))"
   ]
  },
  {
   "cell_type": "code",
   "execution_count": 49,
   "metadata": {},
   "outputs": [],
   "source": [
    "bounds= Bounds(0,1)"
   ]
  },
  {
   "cell_type": "code",
   "execution_count": 50,
   "metadata": {},
   "outputs": [
    {
     "name": "stderr",
     "output_type": "stream",
     "text": [
      "C:\\Users\\sergi\\anaconda3\\lib\\site-packages\\scipy\\optimize\\_hessian_update_strategy.py:182: UserWarning: delta_grad == 0.0. Check if the approximated function is linear. If the function is linear better results can be obtained by defining the Hessian as zero instead of using quasi-Newton approximations.\n",
      "  warn('delta_grad == 0.0. Check if the approximated '\n"
     ]
    },
    {
     "name": "stdout",
     "output_type": "stream",
     "text": [
      "The maximum number of function evaluations is exceeded.\n",
      "Number of iterations: 1000, function evaluations: 55385, CG iterations: 52857, optimality: 1.65e+05, constraint violation: 0.00e+00, execution time: 4e+02 s.\n"
     ]
    }
   ],
   "source": [
    "res = minimize(obj_fun, x0, method='trust-constr',\n",
    "              options={'verbose': 1}, bounds=bounds)"
   ]
  },
  {
   "cell_type": "code",
   "execution_count": 51,
   "metadata": {},
   "outputs": [],
   "source": [
    "sol=res.x"
   ]
  },
  {
   "cell_type": "code",
   "execution_count": 52,
   "metadata": {},
   "outputs": [
    {
     "data": {
      "text/plain": [
       "array([0.00277638, 0.06367201, 0.84490726, 0.68458236, 0.42008294,\n",
       "       0.86297985, 0.91425092, 0.82814963, 0.37170083, 0.34838637,\n",
       "       0.81286634, 0.31287092, 0.27546673, 0.10976284, 0.92371342,\n",
       "       0.99983636, 0.42332072, 0.1685551 , 0.00951843, 0.65447439,\n",
       "       0.4915587 , 0.6040647 , 0.87990726, 0.37130877, 0.63757385,\n",
       "       0.98708703, 0.04196282, 0.93156886, 0.98034572, 0.61582534,\n",
       "       0.74178861, 0.64642815, 0.86365967, 0.71153803, 0.51216577,\n",
       "       0.69443647, 0.00533223, 0.75701109, 0.6151628 , 0.67238296,\n",
       "       0.56828321, 0.69166381, 0.71349925, 0.83583557, 0.80812953,\n",
       "       0.49066703, 0.6422104 , 0.41039044, 0.41380933, 0.42124991,\n",
       "       0.56775896, 0.68489354, 0.8436827 , 0.97233806])"
      ]
     },
     "execution_count": 52,
     "metadata": {},
     "output_type": "execute_result"
    }
   ],
   "source": [
    "sol"
   ]
  },
  {
   "cell_type": "code",
   "execution_count": 54,
   "metadata": {},
   "outputs": [],
   "source": [
    "I, R, D=fun_aux(sol)\n"
   ]
  },
  {
   "cell_type": "code",
   "execution_count": 55,
   "metadata": {},
   "outputs": [
    {
     "data": {
      "text/plain": [
       "<matplotlib.legend.Legend at 0x2a9b35f22b0>"
      ]
     },
     "execution_count": 55,
     "metadata": {},
     "output_type": "execute_result"
    },
    {
     "data": {
      "image/png": "[encoded data removed]",
      "text/plain": [
       "<Figure size 432x288 with 1 Axes>"
      ]
     },
     "metadata": {
      "needs_background": "light"
     },
     "output_type": "display_data"
    }
   ],
   "source": [
    "ejex=np.linspace(1,n,n)\n",
    "tasa_mor=(Db_ac/Ib_ac)*100\n",
    "plt.plot(ejex,tasa_mor,label='Tasa mortalidad (%)',color='red')\n",
    "plt.xlabel('Dia')  # Add an x-label to the axes.\n",
    "plt.ylabel('(Muertos acum./infectados acum.) en %')  # Add a y-label to the axes.\n",
    "#plt.title('acumulados')  # Add a title to the axes.\n",
    "plt.legend()  # Add a legend."
   ]
  },
  {
   "cell_type": "code",
   "execution_count": 166,
   "metadata": {},
   "outputs": [],
   "source": [
    "#cant=200\n",
    "#fun_vec=np.zeros(cant)\n",
    "#for l in range(cant):\n",
    "#    alpha_a=np.random.rand(num)\n",
    "#    alpha_i=np.random.rand(num)\n",
    "#    mu=np.random.rand(1)\n",
    "#    beta=np.random.rand(1)\n",
    "#    x=np.concatenate((mu,beta,alpha_a,alpha_i))\n",
    "#    fun_vec[l]=obj_fun(x)\n"
   ]
  },
  {
   "cell_type": "code",
   "execution_count": 64,
   "metadata": {},
   "outputs": [
    {
     "data": {
      "text/plain": [
       "array([0.00277676, 0.06255387, 0.61039239, 0.68826076, 0.90449303,\n",
       "       0.59659857, 0.67612009, 0.49670614, 0.44899803, 0.67895828,\n",
       "       0.46210794, 0.61592254, 0.61114175, 0.48688427, 0.52360272,\n",
       "       0.573006  , 0.41214355, 0.52731061, 0.70251739, 0.45383493,\n",
       "       0.56215424, 0.41901167, 0.48803513, 0.43969033, 0.61886689,\n",
       "       0.50262285, 0.59115975, 1.        , 1.        , 0.65923651,\n",
       "       0.49858128, 0.7736214 , 0.98261376, 0.8786359 , 0.4780674 ,\n",
       "       0.54660523, 0.13745238, 0.643954  , 0.46931857, 0.51992648,\n",
       "       0.70522751, 0.81543746, 0.7039931 , 0.72610463, 0.61817839,\n",
       "       0.52890619, 0.61689101, 0.43817549, 0.47511553, 0.39876456,\n",
       "       0.5597907 , 0.79081495, 0.67897826, 1.        ])"
      ]
     },
     "execution_count": 64,
     "metadata": {},
     "output_type": "execute_result"
    }
   ],
   "source": [
    "lw = [0] * (2*num+2)\n",
    "up = [1] * (2*num+2)\n",
    "ret = dual_annealing(obj_fun, bounds=list(zip(lw, up)))\n",
    "ret.x"
   ]
  },
  {
   "cell_type": "code",
   "execution_count": 65,
   "metadata": {},
   "outputs": [],
   "source": [
    "#bounds = [(0, 1.0), ]*(2*num+2)"
   ]
  },
  {
   "cell_type": "code",
   "execution_count": 66,
   "metadata": {},
   "outputs": [],
   "source": [
    "#result = differential_evolution(obj_fun, bounds)"
   ]
  },
  {
   "cell_type": "code",
   "execution_count": 79,
   "metadata": {},
   "outputs": [],
   "source": [
    "sol_2=ret.x"
   ]
  },
  {
   "cell_type": "code",
   "execution_count": 80,
   "metadata": {},
   "outputs": [
    {
     "data": {
      "text/plain": [
       "array([0.00277676, 0.06255387, 0.61039239, 0.68826076, 0.90449303,\n",
       "       0.59659857, 0.67612009, 0.49670614, 0.44899803, 0.67895828,\n",
       "       0.46210794, 0.61592254, 0.61114175, 0.48688427, 0.52360272,\n",
       "       0.573006  , 0.41214355, 0.52731061, 0.70251739, 0.45383493,\n",
       "       0.56215424, 0.41901167, 0.48803513, 0.43969033, 0.61886689,\n",
       "       0.50262285, 0.59115975, 1.        , 1.        , 0.65923651,\n",
       "       0.49858128, 0.7736214 , 0.98261376, 0.8786359 , 0.4780674 ,\n",
       "       0.54660523, 0.13745238, 0.643954  , 0.46931857, 0.51992648,\n",
       "       0.70522751, 0.81543746, 0.7039931 , 0.72610463, 0.61817839,\n",
       "       0.52890619, 0.61689101, 0.43817549, 0.47511553, 0.39876456,\n",
       "       0.5597907 , 0.79081495, 0.67897826, 1.        ])"
      ]
     },
     "execution_count": 80,
     "metadata": {},
     "output_type": "execute_result"
    }
   ],
   "source": [
    "I2, R2, D2 = fun_aux(sol_2)\n",
    "sol_2"
   ]
  },
  {
   "cell_type": "code",
   "execution_count": 82,
   "metadata": {},
   "outputs": [
    {
     "data": {
      "text/plain": [
       "<matplotlib.legend.Legend at 0x2a9b4ed7460>"
      ]
     },
     "execution_count": 82,
     "metadata": {},
     "output_type": "execute_result"
    },
    {
     "data": {
      "image/png": "[encoded data removed]",
      "text/plain": [
       "<Figure size 432x288 with 1 Axes>"
      ]
     },
     "metadata": {
      "needs_background": "light"
     },
     "output_type": "display_data"
    }
   ],
   "source": [
    "ejex=np.linspace(1,n,n)\n",
    "\n",
    "plt.plot(ejex,ac_con,label='casos activos confirmados en base de datos')\n",
    "plt.plot(ejex,I,label='casos activos confirmados (trust-constr)')\n",
    "plt.plot(ejex,I2,label='casos activos confirmados (dual annealing)')\n",
    "plt.xlabel('Dia')  # Add an x-label to the axes.\n",
    "plt.ylabel('Cantidad')  # Add a y-label to the axes.\n",
    "#plt.title('acumulados')  # Add a title to the axes.\n",
    "plt.legend()  # Add a legend.\n"
   ]
  },
  {
   "cell_type": "code",
   "execution_count": 83,
   "metadata": {},
   "outputs": [
    {
     "data": {
      "text/plain": [
       "<matplotlib.legend.Legend at 0x2a9b4f4c0a0>"
      ]
     },
     "execution_count": 83,
     "metadata": {},
     "output_type": "execute_result"
    },
    {
     "data": {
      "image/png": "[encoded data removed]",
      "text/plain": [
       "<Figure size 432x288 with 1 Axes>"
      ]
     },
     "metadata": {
      "needs_background": "light"
     },
     "output_type": "display_data"
    }
   ],
   "source": [
    "ejex=np.linspace(1,n,n)\n",
    "\n",
    "plt.plot(ejex,Rb_ac,label='recuperados confirmados en base de datos')\n",
    "plt.plot(ejex,R,label='recuperados confirmados (trust-constr)')\n",
    "plt.plot(ejex,R2,label='recuperados confirmados (dual annealing)')\n",
    "plt.xlabel('Dia')  # Add an x-label to the axes.\n",
    "plt.ylabel('Cantidad')  # Add a y-label to the axes.\n",
    "#plt.title('acumulados')  # Add a title to the axes.\n",
    "plt.legend()  # Add a legend."
   ]
  },
  {
   "cell_type": "code",
   "execution_count": 84,
   "metadata": {},
   "outputs": [
    {
     "data": {
      "text/plain": [
       "<matplotlib.legend.Legend at 0x2a9b4f9cac0>"
      ]
     },
     "execution_count": 84,
     "metadata": {},
     "output_type": "execute_result"
    },
    {
     "data": {
      "image/png": "[encoded data removed]",
      "text/plain": [
       "<Figure size 432x288 with 1 Axes>"
      ]
     },
     "metadata": {
      "needs_background": "light"
     },
     "output_type": "display_data"
    }
   ],
   "source": [
    "ejex=np.linspace(1,n,n)\n",
    "\n",
    "plt.plot(ejex,Db_ac,label='muertos acumulados en base de datos')\n",
    "plt.plot(ejex,D,label='muertos acumulados (trust-constr)')\n",
    "plt.plot(ejex,D2,label='muertos acumulados (dual annealing)')\n",
    "plt.xlabel('Dia')  # Add an x-label to the axes.\n",
    "plt.ylabel('Cantidad')  # Add a y-label to the axes.\n",
    "#plt.title('acumulados')  # Add a title to the axes.\n",
    "plt.legend()  # Add a legend."
   ]
  },
  {
   "cell_type": "code",
   "execution_count": null,
   "metadata": {},
   "outputs": [],
   "source": [
    "###################DE AQUI EN ADELANTE ES LA P3###########################"
   ]
  },
  {
   "cell_type": "code",
   "execution_count": 283,
   "metadata": {},
   "outputs": [],
   "source": [
    "n2=154#estudiamos los dias desde el 1 de mayo hasta el 1 de octubre para que la cantidad de dias sea multiplo de 7\n",
    "largo2=7\n",
    "num2=int(n2/largo2)\n",
    "kappa2=np.concatenate((kappa,np.repeat(0.3,123)))\n",
    "np.random.seed(0)\n",
    "alpha_a=np.random.rand(num2)\n",
    "alpha_i=np.random.rand(num2)\n",
    "alpha_a[0]=0.5\n",
    "alpha_i[0]=0.5\n",
    "E02=(ac_sin[152]-(0.9-kappa[151])*ac_sin[151])/0.5\n",
    "E12=(ac_sin[153]-(0.9-kappa[152])*ac_sin[152])/0.5\n",
    "delta=(alpha_a[0]*ac_sin[151]+alpha_i[0]*ac_con[151])/N\n",
    "S02=(E12-0.5*E02)/delta\n",
    "kappa2=kappa2[151:305]\n",
    "x0=np.concatenate((alpha_a,alpha_i))"
   ]
  },
  {
   "cell_type": "code",
   "execution_count": 284,
   "metadata": {},
   "outputs": [],
   "source": [
    "def fun_aux2(x):#x debe ser un vector que acople los parametros alpha_a y alpha_i (en ese orden)\n",
    "    mu=sol[0]\n",
    "    beta=sol[1]\n",
    "    alpha_a=x[:num2];\n",
    "    alpha_i=x[num2:2*num2];\n",
    "    I=np.zeros(n2);\n",
    "    D=np.zeros(n2);\n",
    "    R=np.zeros(n2);\n",
    "    A=np.zeros(n2);\n",
    "    S=np.zeros(n2);\n",
    "    E=np.zeros(n2);\n",
    "    new_alpha_a=np.repeat(alpha_a[0],largo2)#new_alpha_a es el parametro de distanciamiento social,\n",
    "                                            #la cual es una funcion escalon\n",
    "    new_alpha_i=np.repeat(alpha_i[0],largo2)#new_alpha_i es el parametro de cuarentena, la cual es una funcion escalon\n",
    "    I[0]=ac_con[151]#numero de activos confirmados del 1 de mayo\n",
    "    R[0]=Rb_ac[151]#numero de recuperados acumulados del 1 de mayo\n",
    "    D[0]=Db_ac[151]#numero de muertos acumulados del 1 de mayo\n",
    "    A[0]=ac_sin[151]#numero de activos no confirmados del 1 de mayo\n",
    "    E[0]=E02\n",
    "    S[0]=S02\n",
    "    for j in range(1,num2):\n",
    "        aux_a=np.repeat(alpha_a[j],largo2)\n",
    "        aux_i=np.repeat(alpha_i[j],largo2)\n",
    "        new_alpha_a=np.concatenate((new_alpha_a,aux_a))\n",
    "        new_alpha_i=np.concatenate((new_alpha_i,aux_i))\n",
    "    for j in range(n2-1):\n",
    "        delta=(new_alpha_a[j]*A[j]+new_alpha_i[j]*I[j])/N;\n",
    "        S[j+1]=(1-delta)*S[j];#gamma=0\n",
    "        E[j+1]=0.5*E[j]+delta*S[j];\n",
    "        A[j+1]=(0.9-kappa2[j])*A[j]+0.5*E[j];\n",
    "        I[j+1]=(1-beta-mu)*I[j]+kappa2[j]*A[j];\n",
    "        R[j+1]=R[j]+0.1*A[j]+beta*I[j];#gamma=0\n",
    "        D[j+1]=D[j]+mu*I[j];\n",
    "    return I"
   ]
  },
  {
   "cell_type": "code",
   "execution_count": 285,
   "metadata": {},
   "outputs": [],
   "source": [
    "def fun_rest(x):\n",
    "    I=fun_aux2(x)\n",
    "    return max(I)"
   ]
  },
  {
   "cell_type": "code",
   "execution_count": 292,
   "metadata": {},
   "outputs": [],
   "source": [
    "ca=100;\n",
    "ci=100;\n",
    "Ip=30000;"
   ]
  },
  {
   "cell_type": "code",
   "execution_count": 293,
   "metadata": {},
   "outputs": [],
   "source": [
    "def obj_fun2(x):#x debe ser un vector que acople los parametros alpha_a y alpha_i (en ese orden)\n",
    "    alpha_a=x[:num2];\n",
    "    alpha_i=x[num2:2*num2];\n",
    "    new_alpha_a=np.repeat(alpha_a[0],largo2)#new_alpha_a es el parametro de distanciamiento social,\n",
    "                                            #la cual es una funcion escalon\n",
    "    new_alpha_i=np.repeat(alpha_i[0],largo2)\n",
    "    for j in range(1,num2):\n",
    "        aux_a=np.repeat(alpha_a[j],largo2)\n",
    "        aux_i=np.repeat(alpha_i[j],largo2)\n",
    "        new_alpha_a=np.concatenate((new_alpha_a,aux_a))\n",
    "        new_alpha_i=np.concatenate((new_alpha_i,aux_i))\n",
    "    return ca*np.sum(np.ones(n2)-new_alpha_a)+ci*np.sum(np.ones(n2)-new_alpha_i)"
   ]
  },
  {
   "cell_type": "code",
   "execution_count": 294,
   "metadata": {},
   "outputs": [
    {
     "data": {
      "text/plain": [
       "42705.77941701273"
      ]
     },
     "execution_count": 294,
     "metadata": {},
     "output_type": "execute_result"
    }
   ],
   "source": [
    "fun_rest(x0)"
   ]
  },
  {
   "cell_type": "code",
   "execution_count": 295,
   "metadata": {},
   "outputs": [],
   "source": [
    "bounds= Bounds(0,1)"
   ]
  },
  {
   "cell_type": "code",
   "execution_count": 296,
   "metadata": {},
   "outputs": [],
   "source": [
    "nonlinear_constraint = NonlinearConstraint(fun_rest, -np.inf, Ip)"
   ]
  },
  {
   "cell_type": "code",
   "execution_count": 297,
   "metadata": {},
   "outputs": [
    {
     "name": "stdout",
     "output_type": "stream",
     "text": [
      "The maximum number of function evaluations is exceeded.\n",
      "Number of iterations: 1000, function evaluations: 59760, CG iterations: 5080, optimality: 7.55e+01, constraint violation: 1.26e+04, execution time: 2.1e+02 s.\n"
     ]
    }
   ],
   "source": [
    "res2 = minimize(obj_fun2, x0, method='trust-constr', constraints=[nonlinear_constraint],\n",
    "               options={'verbose': 1}, bounds=bounds)"
   ]
  },
  {
   "cell_type": "code",
   "execution_count": 298,
   "metadata": {},
   "outputs": [],
   "source": [
    "sol_p3=res2.x"
   ]
  },
  {
   "cell_type": "code",
   "execution_count": 299,
   "metadata": {},
   "outputs": [
    {
     "data": {
      "text/plain": [
       "array([0.99979385, 0.99984753, 0.99982525, 0.99983285, 0.99982342,\n",
       "       0.99981649, 0.99981377, 0.99982371, 0.99982566, 0.99982277,\n",
       "       0.9998251 , 0.99982353, 0.99982102, 0.999838  , 0.99987787,\n",
       "       0.99987698, 0.99988109, 0.99985694, 0.99987702, 0.99987887,\n",
       "       0.99987881, 0.99987941, 0.09231022, 0.99507113, 0.97334593,\n",
       "       0.96115576, 0.98041223, 0.71907798, 0.77055005, 0.97584781,\n",
       "       0.98119908, 0.7817132 , 0.55294467, 0.82937627, 0.98806478,\n",
       "       0.99873948, 0.99990862, 0.99991266, 0.99991289, 0.99990443,\n",
       "       0.99998796, 0.99998447, 0.99997329, 0.99988848])"
      ]
     },
     "execution_count": 299,
     "metadata": {},
     "output_type": "execute_result"
    }
   ],
   "source": [
    "sol_p3"
   ]
  },
  {
   "cell_type": "code",
   "execution_count": 300,
   "metadata": {},
   "outputs": [],
   "source": [
    "I=fun_aux2(sol_p3)"
   ]
  },
  {
   "cell_type": "code",
   "execution_count": 301,
   "metadata": {},
   "outputs": [
    {
     "data": {
      "text/plain": [
       "31"
      ]
     },
     "execution_count": 301,
     "metadata": {},
     "output_type": "execute_result"
    }
   ],
   "source": [
    "len(I[:31])"
   ]
  },
  {
   "cell_type": "code",
   "execution_count": 302,
   "metadata": {},
   "outputs": [
    {
     "data": {
      "text/plain": [
       "<matplotlib.legend.Legend at 0x2a9b663f910>"
      ]
     },
     "execution_count": 302,
     "metadata": {},
     "output_type": "execute_result"
    },
    {
     "data": {
      "image/png": "[encoded data removed]",
      "text/plain": [
       "<Figure size 432x288 with 1 Axes>"
      ]
     },
     "metadata": {
      "needs_background": "light"
     },
     "output_type": "display_data"
    }
   ],
   "source": [
    "ejex=np.linspace(1,31,31)\n",
    "\n",
    "plt.plot(ejex,ac_con[151:182],label='muertos acumulados en base de datos')\n",
    "plt.plot(ejex,I[:31],label='muertos acumulados (trust-constr)')\n",
    "#plt.plot(ejex,D2,label='muertos acumulados (dual annealing)')\n",
    "plt.xlabel('Dia')  # Add an x-label to the axes.\n",
    "plt.ylabel('Cantidad')  # Add a y-label to the axes.\n",
    "#plt.title('acumulados')  # Add a title to the axes.\n",
    "plt.legend()  # Add a legend."
   ]
  },
  {
   "cell_type": "code",
   "execution_count": null,
   "metadata": {},
   "outputs": [],
   "source": []
  }
 ],
 "metadata": {
  "kernelspec": {
   "display_name": "Python 3",
   "language": "python",
   "name": "python3"
  },
  "language_info": {
   "codemirror_mode": {
    "name": "ipython",
    "version": 3
   },
   "file_extension": ".py",
   "mimetype": "text/x-python",
   "name": "python",
   "nbconvert_exporter": "python",
   "pygments_lexer": "ipython3",
   "version": "3.8.8"
  }
 },
 "nbformat": 4,
 "nbformat_minor": 4
}
